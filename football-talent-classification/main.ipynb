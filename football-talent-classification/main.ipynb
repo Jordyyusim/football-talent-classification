{
 "cells": [
  {
   "cell_type": "code",
   "execution_count": 54,
   "id": "8cc0d12a",
   "metadata": {},
   "outputs": [],
   "source": [
    "import pandas as pd\n",
    "import numpy as np\n",
    "import openpyxl\n",
    "import json\n",
    "from datetime import datetime\n",
    "import warnings\n",
    "warnings.filterwarnings(\"ignore\")\n",
    "\n",
    "# Split data\n",
    "from sklearn.model_selection import train_test_split, GridSearchCV, cross_val_score\n",
    "\n",
    "# Preprocessing\n",
    "from sklearn.preprocessing import StandardScaler\n",
    "from sklearn.pipeline import Pipeline\n",
    "\n",
    "# Model\n",
    "from sklearn.ensemble import RandomForestClassifier\n",
    "from sklearn.linear_model import LogisticRegression\n",
    "from sklearn.svm import SVC\n",
    "from sklearn.neighbors import KNeighborsClassifier\n",
    "\n",
    "# Evaluate Model\n",
    "from sklearn.metrics import classification_report, confusion_matrix, accuracy_score, make_scorer, f1_score"
   ]
  },
  {
   "cell_type": "markdown",
   "id": "fe36ad53",
   "metadata": {},
   "source": [
    "### Import Datas"
   ]
  },
  {
   "cell_type": "code",
   "execution_count": 2,
   "id": "2dd85d39",
   "metadata": {},
   "outputs": [],
   "source": [
    "df_pl = pd.read_excel('Premier-League-Player-Stats-2024-2025.xlsx')\n",
    "df_indo = pd.read_excel('Liga-1-Indonesia-Player-Stats-2024-2025.xlsx')"
   ]
  },
  {
   "cell_type": "markdown",
   "id": "57d87627",
   "metadata": {},
   "source": [
    "### Check Datas"
   ]
  },
  {
   "cell_type": "code",
   "execution_count": null,
   "id": "dc1ed76b",
   "metadata": {},
   "outputs": [
    {
     "name": "stdout",
     "output_type": "stream",
     "text": [
      "Shape: (790, 14)\n",
      "------------------------------------------------------\n",
      "missing_values:\n",
      "Name                   0\n",
      "Date of Birth          0\n",
      "Nationality            0\n",
      "Height (cm)            0\n",
      "Position               0\n",
      "Appearances            0\n",
      "Minutes played         0\n",
      "Goals                  0\n",
      "Assists                0\n",
      "Clean sheets           0\n",
      "Goals conceded         0\n",
      "Yellow cards           0\n",
      "Second yellow cards    0\n",
      "Red cards              0\n",
      "dtype: int64\n",
      "------------------------------------------------------\n",
      "duplicates: 20\n",
      "------------------------------------------------------\n",
      "dtypes:\n",
      "Name                   object\n",
      "Date of Birth          object\n",
      "Nationality            object\n",
      "Height (cm)             int64\n",
      "Position               object\n",
      "Appearances             int64\n",
      "Minutes played         object\n",
      "Goals                   int64\n",
      "Assists                 int64\n",
      "Clean sheets            int64\n",
      "Goals conceded          int64\n",
      "Yellow cards            int64\n",
      "Second yellow cards     int64\n",
      "Red cards               int64\n",
      "dtype: object\n"
     ]
    }
   ],
   "source": [
    "def checking_dataframe(df):\n",
    "    print('Shape:',df.shape)\n",
    "    print('---' * 18)\n",
    "    print('missing_values:')\n",
    "    print(df.isnull().sum())\n",
    "    print('---' * 18)\n",
    "    print('duplicates:',df.duplicated().sum())\n",
    "    print('---' * 18)\n",
    "    print('dtypes:')\n",
    "    print(df.dtypes)\n",
    "    \n",
    "checking_dataframe(df_pl)"
   ]
  },
  {
   "cell_type": "code",
   "execution_count": 21,
   "id": "153984e0",
   "metadata": {},
   "outputs": [],
   "source": [
    "position_mapping = {\n",
    "    'Centre-Back': 'Defender',\n",
    "    'Left-Back': 'Defender',\n",
    "    'Right-Back': 'Defender',\n",
    "    'Defensive Midfield': 'Midfielder',\n",
    "    'Central Midfield': 'Midfielder',\n",
    "    'Attacking Midfield': 'Midfielder',\n",
    "    'Left Midfield': 'Midfielder',\n",
    "    'Right Midfield': 'Midfielder',\n",
    "    'Left Winger': 'Forward',\n",
    "    'Right Winger': 'Forward',\n",
    "    'Second Striker': 'Forward',\n",
    "    'Centre-Forward': 'Forward',\n",
    "    'Attack': 'Forward'\n",
    "    }"
   ]
  },
  {
   "cell_type": "code",
   "execution_count": 22,
   "id": "12303029",
   "metadata": {},
   "outputs": [],
   "source": [
    "def cleaning_feature(df, position_mapping):\n",
    "    # Drop duplicates\n",
    "    df.drop_duplicates(inplace=True)\n",
    "    \n",
    "    # New Column 'Age'\n",
    "    df['Date of Birth'] = df['Date of Birth'].replace(0, np.nan)\n",
    "    df['Date of Birth'] = pd.to_datetime(df['Date of Birth'], errors='coerce')\n",
    "    df['Age'] = df['Date of Birth'].apply(lambda x: (datetime.now() - x).days // 365 if pd.notnull(x) else 0)\n",
    "    \n",
    "    # 'Minutes played' to int\n",
    "    df['Minutes played'] = (\n",
    "    df['Minutes played']\n",
    "    .astype(str)\n",
    "    .str.replace(\"'\",\"\", regex=False)\n",
    "    .str.replace(\".\",\"\", regex=False)\n",
    "    .str.strip()\n",
    "    .astype(int)\n",
    "    )\n",
    "\n",
    "    # Map 'Position'\n",
    "    df['Position'] =  df['Position'].replace(position_mapping).astype(str)\n",
    "    \n",
    "    # New Column 'G+A per 90'\n",
    "    df['Goals per 90'] = df['Goals'] / (df['Minutes played'] / 90)\n",
    "    df['Assists per 90'] = df['Assists'] / (df['Minutes played'] / 90)\n",
    "    df['G+A per 90'] = df['Goals per 90'] + df['Assists per 90']\n",
    "\n",
    "    # Handle NaN\n",
    "    df.fillna(0, inplace=True)\n",
    "    \n",
    "    return df\n",
    "    "
   ]
  },
  {
   "cell_type": "markdown",
   "id": "1e831d4a",
   "metadata": {},
   "source": [
    "### New Premier League Dataframe"
   ]
  },
  {
   "cell_type": "code",
   "execution_count": 23,
   "id": "371b4850",
   "metadata": {},
   "outputs": [],
   "source": [
    "df_pl = cleaning_feature(df_pl, position_mapping)"
   ]
  },
  {
   "cell_type": "markdown",
   "id": "e2e737bb",
   "metadata": {},
   "source": [
    "### Label Premier League Dataframe"
   ]
  },
  {
   "cell_type": "code",
   "execution_count": 24,
   "id": "b26fc00b",
   "metadata": {},
   "outputs": [],
   "source": [
    "df_pl['label'] = 0\n",
    "\n",
    "df_pl.loc[\n",
    "    (df_pl['Age'] <= 23) & \n",
    "    (df_pl['Height (cm)'] >= 174) & \n",
    "    (df_pl['Minutes played'] >= 600) & \n",
    "    (df_pl['Yellow cards'] <= 5) & \n",
    "    (df_pl['Second yellow cards'] <= 1) & \n",
    "    (df_pl['Red cards'] <= 1) & \n",
    "    (df_pl['G+A per 90'] >=0.3) & \n",
    "    ((df_pl['Position'] == 'Forward') | (df_pl['Position'] == 'Midfielder')),\n",
    "    'label'\n",
    "] = 1\n",
    "\n",
    "df_pl.loc[\n",
    "    (df_pl['Age'] <= 23) & \n",
    "    (df_pl['Height (cm)'] >= 180) & \n",
    "    (df_pl['Minutes played'] >= 500) & \n",
    "    (df_pl['Yellow cards'] <= 5) & \n",
    "    (df_pl['Second yellow cards'] <= 1) & \n",
    "    (df_pl['Red cards'] <= 1) & \n",
    "    (df_pl['Clean sheets'] >= 1) &\n",
    "    (df_pl['Goals conceded'] <= 10) &\n",
    "    (df_pl['Position'] == 'Goalkeeper'),\n",
    "    'label'\n",
    "] = 1"
   ]
  },
  {
   "cell_type": "code",
   "execution_count": 76,
   "id": "cb79938e",
   "metadata": {},
   "outputs": [
    {
     "name": "stdout",
     "output_type": "stream",
     "text": [
      "label\n",
      "0    0.976623\n",
      "1    0.023377\n",
      "Name: proportion, dtype: float64\n"
     ]
    }
   ],
   "source": [
    "print(df_pl['label'].value_counts(normalize=True))"
   ]
  },
  {
   "cell_type": "markdown",
   "id": "32082871",
   "metadata": {},
   "source": [
    "### Prepare Train and Test Data"
   ]
  },
  {
   "cell_type": "code",
   "execution_count": 25,
   "id": "41c98089",
   "metadata": {},
   "outputs": [],
   "source": [
    "features = ['Age', 'Height (cm)', 'Yellow cards', \n",
    "            'Second yellow cards', 'Red cards',\n",
    "            'G+A per 90', 'Minutes played',\n",
    "            'Goals conceded', 'Clean sheets']"
   ]
  },
  {
   "cell_type": "code",
   "execution_count": 26,
   "id": "26a55ab6",
   "metadata": {},
   "outputs": [],
   "source": [
    "X = df_pl[features]\n",
    "y = df_pl['label']"
   ]
  },
  {
   "cell_type": "code",
   "execution_count": 27,
   "id": "50e35f8a",
   "metadata": {},
   "outputs": [],
   "source": [
    "X_train, X_test, y_train, y_test = train_test_split(X, y, test_size=0.2, random_state=42, shuffle=True)"
   ]
  },
  {
   "cell_type": "markdown",
   "id": "2acf2f25",
   "metadata": {},
   "source": [
    "### Tuning `Logisitic Regression`"
   ]
  },
  {
   "cell_type": "code",
   "execution_count": 28,
   "id": "b624f14a",
   "metadata": {},
   "outputs": [
    {
     "name": "stdout",
     "output_type": "stream",
     "text": [
      "Logistic Regression Best Params: {'clf__C': 0.01, 'clf__class_weight': None, 'clf__penalty': 'l1', 'clf__solver': 'liblinear'}\n"
     ]
    }
   ],
   "source": [
    "pipe_logreg = Pipeline([\n",
    "    ('scaler', StandardScaler()),\n",
    "    ('clf', LogisticRegression(max_iter=1000))\n",
    "])\n",
    "\n",
    "param_logreg = {\n",
    "    'clf__C': [0.01, 0.1, 1, 10],\n",
    "    'clf__penalty': ['l1', 'l2', 'elasticnet', 'none'],\n",
    "    'clf__solver': ['newton-cg', 'lbfgs', 'liblinear', 'sag', 'saga'],\n",
    "    'clf__class_weight': [None, 'balanced']\n",
    "}\n",
    "\n",
    "grid_logreg = GridSearchCV(pipe_logreg, param_logreg, cv=5, n_jobs=-1)\n",
    "grid_logreg.fit(X_train, y_train)\n",
    "\n",
    "print(\"Logistic Regression Best Params:\", grid_logreg.best_params_)"
   ]
  },
  {
   "cell_type": "markdown",
   "id": "a8adcffe",
   "metadata": {},
   "source": [
    "### Create `Logisitic Regression` Model"
   ]
  },
  {
   "cell_type": "code",
   "execution_count": null,
   "id": "998747a7",
   "metadata": {},
   "outputs": [],
   "source": [
    "best_params_logreg = grid_logreg.best_params_\n",
    "\n",
    "# Clean prefix 'clf__'\n",
    "clean_params = {k.replace('clf__', ''): v for k, v in best_params_logreg.items()}\n",
    "\n",
    "# Final Pipeline and Re-train\n",
    "model_logreg = Pipeline([\n",
    "    ('scaler', StandardScaler()),\n",
    "    ('clf', LogisticRegression(**clean_params, max_iter=1000))\n",
    "])\n",
    "\n",
    "model_logreg.fit(X, y)"
   ]
  },
  {
   "cell_type": "markdown",
   "id": "32ff4ba7",
   "metadata": {},
   "source": [
    "### Tuning `Random Forest`"
   ]
  },
  {
   "cell_type": "code",
   "execution_count": 30,
   "id": "801dc6ca",
   "metadata": {},
   "outputs": [
    {
     "name": "stdout",
     "output_type": "stream",
     "text": [
      "Random Forest Best Params: {'clf__max_depth': None, 'clf__min_samples_split': 2, 'clf__n_estimators': 200}\n"
     ]
    }
   ],
   "source": [
    "pipe_rf = Pipeline([\n",
    "    ('clf', RandomForestClassifier(random_state=42))\n",
    "])\n",
    "\n",
    "param_rf = {\n",
    "    'clf__n_estimators': [50, 100, 200],\n",
    "    'clf__max_depth': [None, 5, 10],\n",
    "    'clf__min_samples_split': [2, 5]\n",
    "}\n",
    "\n",
    "grid_rf = GridSearchCV(pipe_rf, param_rf, cv=5, n_jobs=-1)\n",
    "grid_rf.fit(X_train, y_train)\n",
    "\n",
    "print(\"Random Forest Best Params:\", grid_rf.best_params_)"
   ]
  },
  {
   "cell_type": "markdown",
   "id": "8f76ddb0",
   "metadata": {},
   "source": [
    "### Create `Random Forest` Model"
   ]
  },
  {
   "cell_type": "code",
   "execution_count": null,
   "id": "8419b4fa",
   "metadata": {},
   "outputs": [],
   "source": [
    "best_params_rf = grid_rf.best_params_\n",
    "\n",
    "# Clean prefix 'clf__'\n",
    "clean_params = {k.replace('clf__', ''): v for k, v in best_params_rf.items()}\n",
    "\n",
    "# Final Pipeline and Re-train\n",
    "model_rf = Pipeline([\n",
    "    ('clf', RandomForestClassifier(**clean_params, random_state=42))\n",
    "])\n",
    "\n",
    "model_rf.fit(X, y)"
   ]
  },
  {
   "cell_type": "markdown",
   "id": "8d8ba0ae",
   "metadata": {},
   "source": [
    "### Tuning `Support Vector Machine`"
   ]
  },
  {
   "cell_type": "code",
   "execution_count": 32,
   "id": "846fca44",
   "metadata": {},
   "outputs": [
    {
     "name": "stdout",
     "output_type": "stream",
     "text": [
      "SVM Best Params: {'clf__C': 0.1, 'clf__gamma': 'scale', 'clf__kernel': 'linear'}\n"
     ]
    }
   ],
   "source": [
    "pipe_svm = Pipeline([\n",
    "    ('scaler', StandardScaler()),\n",
    "    ('clf', SVC())\n",
    "])\n",
    "\n",
    "param_svm = {\n",
    "    'clf__C': [0.1, 1, 10],\n",
    "    'clf__kernel': ['linear', 'rbf'],\n",
    "    'clf__gamma': ['scale', 'auto']\n",
    "}\n",
    "\n",
    "grid_svm = GridSearchCV(pipe_svm, param_svm, cv=5, n_jobs=-1)\n",
    "grid_svm.fit(X_train, y_train)\n",
    "\n",
    "print(\"SVM Best Params:\", grid_svm.best_params_)"
   ]
  },
  {
   "cell_type": "markdown",
   "id": "e7c9e957",
   "metadata": {},
   "source": [
    "### Create `Support Vector Machine` Model"
   ]
  },
  {
   "cell_type": "code",
   "execution_count": null,
   "id": "517c736f",
   "metadata": {},
   "outputs": [],
   "source": [
    "best_params_svm = grid_svm.best_params_\n",
    "\n",
    "# Clean prefix 'clf__'\n",
    "clean_params = {k.replace('clf__', ''): v for k, v in best_params_svm.items()}\n",
    "\n",
    "# Final Pipeline and Re-train\n",
    "model_svm = Pipeline([\n",
    "    ('scaler', StandardScaler()),\n",
    "    ('clf', SVC(probability=True,**clean_params))\n",
    "])\n",
    "\n",
    "model_svm.fit(X, y)"
   ]
  },
  {
   "cell_type": "markdown",
   "id": "9e4fa276",
   "metadata": {},
   "source": [
    "### Tuning `K-Nearest Neighbors`"
   ]
  },
  {
   "cell_type": "code",
   "execution_count": 34,
   "id": "309a82f2",
   "metadata": {},
   "outputs": [
    {
     "name": "stdout",
     "output_type": "stream",
     "text": [
      "KNN Best Params: {'clf__metric': 'euclidean', 'clf__n_neighbors': 3, 'clf__weights': 'uniform'}\n"
     ]
    }
   ],
   "source": [
    "pipe_knn = Pipeline([\n",
    "    ('scaler', StandardScaler()),\n",
    "    ('clf', KNeighborsClassifier())\n",
    "])\n",
    "\n",
    "param_knn = {\n",
    "    'clf__n_neighbors': [3, 5, 7, 9],\n",
    "    'clf__weights': ['uniform', 'distance'],\n",
    "    'clf__metric': ['euclidean', 'manhattan']\n",
    "}\n",
    "\n",
    "grid_knn = GridSearchCV(pipe_knn, param_knn, cv=5, n_jobs=-1)\n",
    "grid_knn.fit(X_train, y_train)\n",
    "\n",
    "print(\"KNN Best Params:\", grid_knn.best_params_)"
   ]
  },
  {
   "cell_type": "markdown",
   "id": "bb7f911c",
   "metadata": {},
   "source": [
    "### Create `K-Nearest Neighbors` Model"
   ]
  },
  {
   "cell_type": "code",
   "execution_count": null,
   "id": "2cc6ae53",
   "metadata": {},
   "outputs": [],
   "source": [
    "best_params_knn = grid_knn.best_params_\n",
    "\n",
    "# Clean prefix 'clf__'\n",
    "clean_params = {k.replace('clf__', ''): v for k, v in best_params_knn.items()}\n",
    "\n",
    "# Final Pipeline and Re-train\n",
    "model_knn = Pipeline([\n",
    "    ('scaler', StandardScaler()),\n",
    "    ('clf', KNeighborsClassifier(**clean_params))\n",
    "])\n",
    "\n",
    "model_knn.fit(X, y)"
   ]
  },
  {
   "cell_type": "code",
   "execution_count": 36,
   "id": "822f5947",
   "metadata": {},
   "outputs": [],
   "source": [
    "models = {\n",
    "    'Logistic Regression': model_logreg,\n",
    "    'Random Forest': model_rf,\n",
    "    'SVM': model_svm,\n",
    "    'KNN': model_knn\n",
    "}"
   ]
  },
  {
   "cell_type": "markdown",
   "id": "bb8269cd",
   "metadata": {},
   "source": [
    "### Evaluating Model"
   ]
  },
  {
   "cell_type": "code",
   "execution_count": 61,
   "id": "ba19dfc8",
   "metadata": {},
   "outputs": [
    {
     "name": "stdout",
     "output_type": "stream",
     "text": [
      "Logistic Regression Accuracy : 96.75%\n",
      "              precision    recall  f1-score   support\n",
      "\n",
      "           0       0.97      1.00      0.98       149\n",
      "           1       0.00      0.00      0.00         5\n",
      "\n",
      "    accuracy                           0.97       154\n",
      "   macro avg       0.48      0.50      0.49       154\n",
      "weighted avg       0.94      0.97      0.95       154\n",
      "\n",
      "Logistic Regression Confusion Matrix\n",
      "[[149   0]\n",
      " [  5   0]]\n",
      "------------------------------------------------------------------------------------------------------------------------\n",
      "Random Forest Accuracy : 100.00%\n",
      "              precision    recall  f1-score   support\n",
      "\n",
      "           0       1.00      1.00      1.00       149\n",
      "           1       1.00      1.00      1.00         5\n",
      "\n",
      "    accuracy                           1.00       154\n",
      "   macro avg       1.00      1.00      1.00       154\n",
      "weighted avg       1.00      1.00      1.00       154\n",
      "\n",
      "Random Forest Confusion Matrix\n",
      "[[149   0]\n",
      " [  0   5]]\n",
      "------------------------------------------------------------------------------------------------------------------------\n",
      "SVM Accuracy : 96.75%\n",
      "              precision    recall  f1-score   support\n",
      "\n",
      "           0       0.97      1.00      0.98       149\n",
      "           1       0.00      0.00      0.00         5\n",
      "\n",
      "    accuracy                           0.97       154\n",
      "   macro avg       0.48      0.50      0.49       154\n",
      "weighted avg       0.94      0.97      0.95       154\n",
      "\n",
      "SVM Confusion Matrix\n",
      "[[149   0]\n",
      " [  5   0]]\n",
      "------------------------------------------------------------------------------------------------------------------------\n",
      "KNN Accuracy : 98.05%\n",
      "              precision    recall  f1-score   support\n",
      "\n",
      "           0       0.98      1.00      0.99       149\n",
      "           1       1.00      0.40      0.57         5\n",
      "\n",
      "    accuracy                           0.98       154\n",
      "   macro avg       0.99      0.70      0.78       154\n",
      "weighted avg       0.98      0.98      0.98       154\n",
      "\n",
      "KNN Confusion Matrix\n",
      "[[149   0]\n",
      " [  3   2]]\n",
      "------------------------------------------------------------------------------------------------------------------------\n"
     ]
    }
   ],
   "source": [
    "for name, model in models.items():\n",
    "    acc = accuracy_score(y_test, model.predict(X_test))\n",
    "    report = classification_report(y_test, model.predict(X_test))\n",
    "    conf = confusion_matrix(y_test, model.predict(X_test))\n",
    "    print(f\"{name} Accuracy : {acc*100:.2f}%\")\n",
    "    print(f\"{report}\")\n",
    "    print(f\"{name} Confusion Matrix\")\n",
    "    print(f\"{conf}\")\n",
    "    print(\"---\" * 40)"
   ]
  },
  {
   "cell_type": "markdown",
   "id": "a4dceb85",
   "metadata": {},
   "source": [
    "### Checking Cross Validation of Model"
   ]
  },
  {
   "cell_type": "code",
   "execution_count": 65,
   "id": "28ff221c",
   "metadata": {},
   "outputs": [
    {
     "name": "stdout",
     "output_type": "stream",
     "text": [
      "cross validation with roc score:\n",
      "Logistic Regression | Mean: 0.5000 & Std: 0.0000\n",
      "Random Forest | Mean: 0.9644 & Std: 0.0668\n",
      "SVM | Mean: 0.6898 & Std: 0.1536\n",
      "KNN | Mean: 0.8013 & Std: 0.1186\n"
     ]
    }
   ],
   "source": [
    "# F1 : binary classification | balanced and imbalanced dataset\n",
    "# Accuracy : binary classification and multiclass classification | balanced dataset | how many right predictions\n",
    "# ROC_AUC : binary classification | imbalanced dataset | mean : 0.5 (bad) - 1.0 (perfect)\n",
    "\n",
    "# Mean : Mean Model Performance\n",
    "# Std : Performance Between Folds (the less, more stable)\n",
    "print('cross validation with roc score:')\n",
    "for name, model in models.items():\n",
    "    scores = cross_val_score(model, X, y, cv=5, scoring='roc_auc')  # 'accuracy', 'roc_auc', f1-score\n",
    "    print(f\"{name} | Mean: {scores.mean():.4f} & Std: {scores.std():.4f}\")"
   ]
  },
  {
   "cell_type": "markdown",
   "id": "77cd67bd",
   "metadata": {},
   "source": [
    "### Predict Accuracy Data Train and Test"
   ]
  },
  {
   "cell_type": "code",
   "execution_count": null,
   "id": "c7071683",
   "metadata": {},
   "outputs": [],
   "source": [
    "train_acc = accuracy_score(y_train, model_rf.predict(X_train))\n",
    "test_acc = accuracy_score(y_test, model_rf.predict(X_test))\n",
    "\n",
    "print(f\"Training Accuracy: {train_acc:.4f}\")\n",
    "print(f\"Testing Accuracy: {test_acc:.4f}\")"
   ]
  },
  {
   "cell_type": "markdown",
   "id": "cbdd1c4d",
   "metadata": {},
   "source": [
    "### Liga 1 Indonesia Player Prediction"
   ]
  },
  {
   "cell_type": "code",
   "execution_count": 45,
   "id": "c8f568f0",
   "metadata": {},
   "outputs": [],
   "source": [
    "df_indo = cleaning_feature(df_indo, position_mapping)"
   ]
  },
  {
   "cell_type": "code",
   "execution_count": 46,
   "id": "81b237fe",
   "metadata": {},
   "outputs": [],
   "source": [
    "X_indo = df_indo[features]"
   ]
  },
  {
   "cell_type": "code",
   "execution_count": 47,
   "id": "b3ca938b",
   "metadata": {},
   "outputs": [],
   "source": [
    "prediction = model_rf.predict(X_indo)"
   ]
  },
  {
   "cell_type": "code",
   "execution_count": 48,
   "id": "43998cb7",
   "metadata": {},
   "outputs": [],
   "source": [
    "df_indo['Predictions'] = prediction\n",
    "df_indo['Predictions'] = df_indo['Predictions'].apply(lambda x: 'Potential' if x == 1 else 'Not Potential')"
   ]
  },
  {
   "cell_type": "code",
   "execution_count": 71,
   "id": "8fffda95",
   "metadata": {},
   "outputs": [
    {
     "name": "stdout",
     "output_type": "stream",
     "text": [
      "Potential Player Count:  0\n"
     ]
    },
    {
     "data": {
      "text/html": [
       "<div>\n",
       "<style scoped>\n",
       "    .dataframe tbody tr th:only-of-type {\n",
       "        vertical-align: middle;\n",
       "    }\n",
       "\n",
       "    .dataframe tbody tr th {\n",
       "        vertical-align: top;\n",
       "    }\n",
       "\n",
       "    .dataframe thead th {\n",
       "        text-align: right;\n",
       "    }\n",
       "</style>\n",
       "<table border=\"1\" class=\"dataframe\">\n",
       "  <thead>\n",
       "    <tr style=\"text-align: right;\">\n",
       "      <th></th>\n",
       "      <th>Name</th>\n",
       "      <th>Date of Birth</th>\n",
       "      <th>Nationality</th>\n",
       "      <th>Height (cm)</th>\n",
       "      <th>Position</th>\n",
       "      <th>Appearances</th>\n",
       "      <th>Minutes played</th>\n",
       "      <th>Goals</th>\n",
       "      <th>Assists</th>\n",
       "      <th>Clean sheets</th>\n",
       "      <th>Goals conceded</th>\n",
       "      <th>Yellow cards</th>\n",
       "      <th>Second yellow cards</th>\n",
       "      <th>Red cards</th>\n",
       "      <th>Age</th>\n",
       "      <th>Goals per 90</th>\n",
       "      <th>Assists per 90</th>\n",
       "      <th>G+A per 90</th>\n",
       "      <th>Predictions</th>\n",
       "    </tr>\n",
       "  </thead>\n",
       "  <tbody>\n",
       "  </tbody>\n",
       "</table>\n",
       "</div>"
      ],
      "text/plain": [
       "Empty DataFrame\n",
       "Columns: [Name, Date of Birth, Nationality, Height (cm), Position, Appearances, Minutes played, Goals, Assists, Clean sheets, Goals conceded, Yellow cards, Second yellow cards, Red cards, Age, Goals per 90, Assists per 90, G+A per 90, Predictions]\n",
       "Index: []"
      ]
     },
     "execution_count": 71,
     "metadata": {},
     "output_type": "execute_result"
    }
   ],
   "source": [
    "print('Potential Player Count: ',df_indo[df_indo['Predictions'] == 'Potential'].shape[0])\n",
    "df_indo[df_indo['Predictions'] == 'Potential']"
   ]
  },
  {
   "cell_type": "markdown",
   "id": "a8ed40a5",
   "metadata": {},
   "source": [
    "### Single Player Prediction"
   ]
  },
  {
   "cell_type": "code",
   "execution_count": 59,
   "id": "daa143a4",
   "metadata": {},
   "outputs": [],
   "source": [
    "def predict_new_player(player_dict, model, position_mapping):\n",
    "    # Calculate Age\n",
    "    dob = datetime.strptime(player_dict['Date of Birth'], \"%Y-%m-%d\")\n",
    "    age = (datetime.now() - dob).days // 365\n",
    "\n",
    "    # Position\n",
    "    position = position_mapping.get(player_dict['Position'], player_dict['Position'])\n",
    "\n",
    "    # G+A per 90\n",
    "    minutes_played = int(player_dict['Minutes played'])\n",
    "    goals_per_90 = player_dict['Goals'] / (minutes_played / 90)\n",
    "    assists_per_90 = player_dict['Assists'] / (minutes_played / 90)\n",
    "    ga_per_90 = goals_per_90 + assists_per_90\n",
    "\n",
    "    # Features\n",
    "    features = [\n",
    "        age,\n",
    "        player_dict['Height (cm)'],\n",
    "        player_dict['Yellow cards'],\n",
    "        player_dict['Second yellow cards'],\n",
    "        player_dict['Red cards'],\n",
    "        ga_per_90,\n",
    "        minutes_played,\n",
    "        player_dict['Goals conceded'],\n",
    "        player_dict['Clean sheets']\n",
    "    ]\n",
    "\n",
    "    # 5. Prediction (array 2D)\n",
    "    prediction = model.predict([features])[0]\n",
    "\n",
    "    result = {\n",
    "        \"Name\": player_dict[\"Name\"],\n",
    "        \"Age\": age,\n",
    "        \"Position\": player_dict['Position'],\n",
    "        \"Result\": \"Potential\" if prediction == 1 else \"Not Potential\"\n",
    "        \n",
    "    }\n",
    "    \n",
    "    return json.dumps(result, indent=4)"
   ]
  },
  {
   "cell_type": "code",
   "execution_count": 72,
   "id": "ff07bb7b",
   "metadata": {},
   "outputs": [
    {
     "name": "stdout",
     "output_type": "stream",
     "text": [
      "{\n",
      "    \"Name\": \"Arthur\",\n",
      "    \"Age\": 20,\n",
      "    \"Position\": \"Attacking Midfield\",\n",
      "    \"Result\": \"Potential\"\n",
      "}\n"
     ]
    }
   ],
   "source": [
    "player = {\n",
    "    'Name': 'Arthur',\n",
    "    'Date of Birth': '2005-05-15',\n",
    "    'Height (cm)': 180,\n",
    "    'Yellow cards': 1,\n",
    "    'Second yellow cards': 0,\n",
    "    'Red cards': 0,\n",
    "    'Goals': 12,\n",
    "    'Assists': 10,\n",
    "    'Minutes played': 1200,\n",
    "    'Clean sheets': 0,\n",
    "    'Goals conceded': 0,\n",
    "    'Position': 'Attacking Midfield'\n",
    "}\n",
    "\n",
    "result = predict_new_player(player, model_rf, position_mapping)\n",
    "print(result)"
   ]
  },
  {
   "cell_type": "code",
   "execution_count": null,
   "id": "c259e150",
   "metadata": {},
   "outputs": [],
   "source": []
  }
 ],
 "metadata": {
  "kernelspec": {
   "display_name": "bola",
   "language": "python",
   "name": "python3"
  },
  "language_info": {
   "codemirror_mode": {
    "name": "ipython",
    "version": 3
   },
   "file_extension": ".py",
   "mimetype": "text/x-python",
   "name": "python",
   "nbconvert_exporter": "python",
   "pygments_lexer": "ipython3",
   "version": "3.10.18"
  }
 },
 "nbformat": 4,
 "nbformat_minor": 5
}
